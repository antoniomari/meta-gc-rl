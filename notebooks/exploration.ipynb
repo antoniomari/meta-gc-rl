{
 "cells": [
  {
   "cell_type": "code",
   "execution_count": 5,
   "id": "932eedb8",
   "metadata": {},
   "outputs": [],
   "source": [
    "import sys\n",
    "import yaml\n",
    "import os\n",
    "import random\n",
    "import time\n",
    "from collections import defaultdict\n",
    "\n",
    "os.environ[\"XLA_FLAGS\"] = \"--xla_gpu_deterministic_ops=true --xla_gpu_autotune_level=0\"\n",
    "os.environ[\"TF_DETERMINISTIC_OPS\"] = \"1\"\n",
    "os.environ[\"TF_CUDNN_DETERMINISTIC\"] = \"1\"\n",
    "\n",
    "sys.path.append(\"..\")\n",
    "\n",
    "import wandb\n",
    "import jax\n",
    "from dataclasses import asdict\n",
    "import numpy as np\n",
    "import tqdm\n",
    "from agents import agents\n",
    "from ml_collections import FrozenConfigDict\n",
    "from utils.datasets import Dataset, GCDataset, HGCDataset\n",
    "from utils.env_utils import make_env_and_datasets\n",
    "# from utils.evaluation import evaluate\n",
    "from utils.flax_utils import restore_agent, save_agent\n",
    "from utils.log_utils import CsvLogger, get_exp_name, get_wandb_video, setup_wandb\n",
    "from utils.config import GCTTTConfig, load_config\n",
    "import matplotlib.pyplot as plt\n",
    "import io\n",
    "from PIL import Image\n",
    "import importlib\n"
   ]
  },
  {
   "cell_type": "code",
   "execution_count": 20,
   "id": "b7b3997c",
   "metadata": {},
   "outputs": [],
   "source": [
    "# Load config\n",
    "cfg = load_config(\"../bc.yaml\")\n",
    " # Load agent defaults\n",
    "cfg_dict = asdict(cfg)\n",
    "agent_cfg = importlib.import_module(f\"agents.{cfg.agent.agent_name}\").get_config()\n",
    "for k, v in agent_cfg.items():\n",
    "    if k not in cfg_dict[\"agent\"]:\n",
    "        cfg_dict[\"agent\"][k] = v\n"
   ]
  },
  {
   "cell_type": "code",
   "execution_count": 21,
   "id": "a9e96956",
   "metadata": {},
   "outputs": [
    {
     "data": {
      "text/plain": [
       "{'run_group': 'debug',\n",
       " 'seed': 0,\n",
       " 'env_name': 'pointmaze-medium-stitch-v0',\n",
       " 'data_ratio': 1.0,\n",
       " 'working_dir': 'meta_exp',\n",
       " 'restore_path': None,\n",
       " 'restore_epoch': None,\n",
       " 'agent': {'agent_name': 'gciql',\n",
       "  'actor_geom_sample': False,\n",
       "  'actor_hidden_dims': (512, 512, 512),\n",
       "  'actor_loss': 'ddpgbc',\n",
       "  'actor_p_curgoal': 0.0,\n",
       "  'actor_p_randomgoal': 0.0,\n",
       "  'actor_p_trajgoal': 1.0,\n",
       "  'alpha': 0.3,\n",
       "  'batch_size': 1024,\n",
       "  'const_std': True,\n",
       "  'dataset_class': 'GCDataset',\n",
       "  'discount': 0.99,\n",
       "  'discrete': False,\n",
       "  'encoder': None,\n",
       "  'expectile': 0.9,\n",
       "  'frame_stack': None,\n",
       "  'gc_negative': True,\n",
       "  'layer_norm': True,\n",
       "  'lr': 0.0003,\n",
       "  'p_aug': 0.0,\n",
       "  'tau': 0.005,\n",
       "  'value_geom_sample': True,\n",
       "  'value_hidden_dims': (512, 512, 512),\n",
       "  'value_p_curgoal': 0.2,\n",
       "  'value_p_randomgoal': 0.3,\n",
       "  'value_p_trajgoal': 0.5},\n",
       " 'finetune': {'ratio': 0.5,\n",
       "  'num_steps': 0,\n",
       "  'lr': 3e-05,\n",
       "  'actor_loss': 'ddpgbc',\n",
       "  'alpha': None,\n",
       "  'batch_size': 1024,\n",
       "  'fix_actor_goal': 0.0,\n",
       "  'mc_quantile': 0.2,\n",
       "  'mc_slack': 5,\n",
       "  'sorb_len': 10,\n",
       "  'filter_by_mc': False,\n",
       "  'filter_by_td': False,\n",
       "  'relevance_by_value': False,\n",
       "  'saw': False,\n",
       "  'reset_after_horizon': False,\n",
       "  'mc_similarity_threshold': 1.0,\n",
       "  'filter_by_recursive_mdp': False,\n",
       "  'min_steps': 10,\n",
       "  'replan_horizon': 100},\n",
       " 'train_steps': 1000000,\n",
       " 'log_interval': 5000,\n",
       " 'eval_interval': 100000,\n",
       " 'save_interval': 100000,\n",
       " 'eval_start': 800000,\n",
       " 'eval_tasks': None,\n",
       " 'eval_episodes': 50,\n",
       " 'eval_temperature': 0.0,\n",
       " 'eval_gaussian': None,\n",
       " 'video_episodes': 0,\n",
       " 'video_frame_skip': 3,\n",
       " 'eval_on_cpu': 1}"
      ]
     },
     "execution_count": 21,
     "metadata": {},
     "output_type": "execute_result"
    }
   ],
   "source": [
    "cfg_dict"
   ]
  },
  {
   "cell_type": "code",
   "execution_count": 22,
   "id": "d034b500",
   "metadata": {},
   "outputs": [
    {
     "name": "stdout",
     "output_type": "stream",
     "text": [
      "Downloading dataset from: https://rail.eecs.berkeley.edu/datasets/ogbench/pointmaze-medium-stitch-v0.npz\n"
     ]
    },
    {
     "name": "stderr",
     "output_type": "stream",
     "text": [
      "pointmaze-medium-stitch-v0.npz: 100%|██████████| 18.8M/18.8M [00:02<00:00, 9.47MB/s]\n"
     ]
    },
    {
     "name": "stdout",
     "output_type": "stream",
     "text": [
      "Downloading dataset from: https://rail.eecs.berkeley.edu/datasets/ogbench/pointmaze-medium-stitch-v0-val.npz\n"
     ]
    },
    {
     "name": "stderr",
     "output_type": "stream",
     "text": [
      "pointmaze-medium-stitch-v0-val.npz: 100%|██████████| 1.88M/1.88M [00:01<00:00, 1.80MB/s]\n"
     ]
    }
   ],
   "source": [
    "# Load data\n",
    "config_agent = cfg_dict[\"agent\"]\n",
    "env, train_dataset, val_dataset = make_env_and_datasets(\n",
    "    cfg.env_name, cfg.data_ratio, frame_stack=config_agent[\"frame_stack\"]\n",
    ")"
   ]
  },
  {
   "cell_type": "code",
   "execution_count": 23,
   "id": "e051c0dd",
   "metadata": {},
   "outputs": [
    {
     "data": {
      "text/plain": [
       "{'agent_name': 'gciql',\n",
       " 'actor_geom_sample': False,\n",
       " 'actor_hidden_dims': (512, 512, 512),\n",
       " 'actor_loss': 'ddpgbc',\n",
       " 'actor_p_curgoal': 0.0,\n",
       " 'actor_p_randomgoal': 0.0,\n",
       " 'actor_p_trajgoal': 1.0,\n",
       " 'alpha': 0.3,\n",
       " 'batch_size': 1024,\n",
       " 'const_std': True,\n",
       " 'dataset_class': 'GCDataset',\n",
       " 'discount': 0.99,\n",
       " 'discrete': False,\n",
       " 'encoder': None,\n",
       " 'expectile': 0.9,\n",
       " 'frame_stack': None,\n",
       " 'gc_negative': True,\n",
       " 'layer_norm': True,\n",
       " 'lr': 0.0003,\n",
       " 'p_aug': 0.0,\n",
       " 'tau': 0.005,\n",
       " 'value_geom_sample': True,\n",
       " 'value_hidden_dims': (512, 512, 512),\n",
       " 'value_p_curgoal': 0.2,\n",
       " 'value_p_randomgoal': 0.3,\n",
       " 'value_p_trajgoal': 0.5}"
      ]
     },
     "execution_count": 23,
     "metadata": {},
     "output_type": "execute_result"
    }
   ],
   "source": [
    "config_agent"
   ]
  },
  {
   "cell_type": "code",
   "execution_count": 24,
   "id": "4471255d",
   "metadata": {},
   "outputs": [
    {
     "data": {
      "text/plain": [
       "FrozenDict({\n",
       "    observations: array([[2.0033117e+01, 1.5632947e+01],\n",
       "           [2.0099489e+01, 1.5443025e+01],\n",
       "           [2.0299490e+01, 1.5243025e+01],\n",
       "           ...,\n",
       "           [1.6030459e-02, 1.1852762e+01],\n",
       "           [9.9748522e-03, 1.2051859e+01],\n",
       "           [1.1539937e-02, 1.1851859e+01]], shape=(1005000, 2), dtype=float32),\n",
       "    actions: array([[ 0.33186212, -0.9496147 ],\n",
       "           [ 1.        , -1.        ],\n",
       "           [-0.9027821 , -0.3318183 ],\n",
       "           ...,\n",
       "           [-0.03027803,  0.9954832 ],\n",
       "           [ 0.00782542, -1.        ],\n",
       "           [ 0.47040606,  0.07431631]], shape=(1005000, 2), dtype=float32),\n",
       "    terminals: array([0., 0., 0., ..., 0., 1., 1.], shape=(1005000,), dtype=float32),\n",
       "    valids: array([1., 1., 1., ..., 1., 1., 0.], shape=(1005000,), dtype=float32),\n",
       "})"
      ]
     },
     "execution_count": 24,
     "metadata": {},
     "output_type": "execute_result"
    }
   ],
   "source": [
    "train_dataset\n",
    "\n",
    "# There are 1001K observations [x, y]\n",
    "# There are 1001K actions [deltaX, deltaY] maybe\n",
    "# Terminals: bool\n",
    "# Valids: bool\n"
   ]
  },
  {
   "cell_type": "code",
   "execution_count": 25,
   "id": "2fbe7d7b",
   "metadata": {},
   "outputs": [
    {
     "data": {
      "text/plain": [
       "{'actions': array([[ 0.9847515 , -0.16461378],\n",
       "        [ 0.08414634,  0.11178224],\n",
       "        [-0.8433495 , -0.8098009 ],\n",
       "        ...,\n",
       "        [-0.83299917, -0.06097023],\n",
       "        [ 0.12648928, -1.        ],\n",
       "        [-0.3431872 ,  0.6470249 ]], shape=(1024, 2), dtype=float32),\n",
       " 'observations': array([[ 1.5343468 , 12.337385  ],\n",
       "        [ 7.9657097 , 15.891599  ],\n",
       "        [20.04253   , 16.10107   ],\n",
       "        ...,\n",
       "        [12.126947  ,  3.9037666 ],\n",
       "        [11.908254  ,  8.13164   ],\n",
       "        [19.223696  , -0.16270353]], shape=(1024, 2), dtype=float32),\n",
       " 'terminals': array([0., 0., 0., ..., 0., 0., 0.], shape=(1024,), dtype=float32),\n",
       " 'valids': array([1., 1., 1., ..., 1., 1., 1.], shape=(1024,), dtype=float32),\n",
       " 'next_observations': array([[ 1.7312971 , 12.304462  ],\n",
       "        [ 7.982539  , 15.913956  ],\n",
       "        [19.873861  , 15.93911   ],\n",
       "        ...,\n",
       "        [11.960348  ,  3.8915727 ],\n",
       "        [11.933552  ,  7.9316406 ],\n",
       "        [19.155058  , -0.03329854]], shape=(1024, 2), dtype=float32)}"
      ]
     },
     "execution_count": 25,
     "metadata": {},
     "output_type": "execute_result"
    }
   ],
   "source": [
    "train_dataset.sample(config_agent[\"batch_size\"])\n"
   ]
  },
  {
   "cell_type": "code",
   "execution_count": null,
   "id": "88f40266",
   "metadata": {},
   "outputs": [],
   "source": [
    "\n",
    "\n",
    "    # Set up logger.\n",
    "    # split env_name by '-'\n",
    "    env_name_split = cfg.env_name.split(\"-\")\n",
    "    # set wandb_env_name as the first part and second part of env_name_split\n",
    "    wandb_env_name = env_name_split[0] + \"-\" + env_name_split[2]\n",
    "    exp_name = get_exp_name(cfg)\n",
    "    setup_wandb(\n",
    "        project=\"TTT_AllFinalRuns\", group=cfg.run_group, name=exp_name, config=cfg_dict\n",
    "    )\n",
    "\n",
    "    # Save current expanded config in the experiment dir\n",
    "    os.makedirs(cfg.working_dir, exist_ok=True)\n",
    "    with open(os.path.join(cfg.working_dir, \"config.yaml\"), \"w\") as f:\n",
    "        yaml.dump(cfg_dict, f)\n",
    "\n",
    "    # Set up environment and dataset.\n",
    "    config_agent = cfg_dict[\"agent\"]\n",
    "    env, train_dataset, val_dataset = make_env_and_datasets(\n",
    "        cfg.env_name, cfg.data_ratio, frame_stack=config_agent[\"frame_stack\"]\n",
    "    )\n",
    "    env.reset(seed=cfg.seed)\n",
    "    env.action_space.seed(cfg.seed)\n",
    "\n",
    "    dataset_class = {\n",
    "        \"GCDataset\": GCDataset,\n",
    "        \"HGCDataset\": HGCDataset,\n",
    "    }[config_agent[\"dataset_class\"]]\n",
    "    train_dataset: GCDataset | HGCDataset = dataset_class(Dataset.create(**train_dataset), config_agent)\n",
    "    if val_dataset is not None:\n",
    "        val_dataset: GCDataset | HGCDataset = dataset_class(Dataset.create(**val_dataset), config_agent)\n",
    "\n",
    "    # Initialize agent.\n",
    "    random.seed(cfg.seed)\n",
    "    np.random.seed(cfg.seed)\n",
    "\n",
    "    example_batch = train_dataset.sample(1)\n",
    "    if config_agent[\"discrete\"]:\n",
    "        # Fill with the maximum action to let the agent know the action space size.\n",
    "        example_batch[\"actions\"] = np.full_like(\n",
    "            example_batch[\"actions\"], env.action_space.n - 1\n",
    "        )\n",
    "\n",
    "    agent_class = agents[config_agent[\"agent_name\"]]\n",
    "    agent = agent_class.create(\n",
    "        cfg.seed,\n",
    "        example_batch[\"observations\"],\n",
    "        example_batch[\"actions\"],\n",
    "        config_agent,\n",
    "    )\n",
    "\n",
    "    # Restore agent.\n",
    "    if cfg.restore_path is not None:\n",
    "        agent = restore_agent(agent, cfg.restore_path, cfg.restore_epoch)\n",
    "\n",
    "    # Train agent.\n",
    "    train_logger = CsvLogger(os.path.join(cfg.working_dir, \"train.csv\"))\n",
    "    eval_logger = CsvLogger(os.path.join(cfg.working_dir, \"eval.csv\"))\n",
    "    first_time = time.time()\n",
    "    last_time = time.time()"
   ]
  },
  {
   "cell_type": "code",
   "execution_count": null,
   "id": "67a75f47",
   "metadata": {},
   "outputs": [],
   "source": [
    "/cluster/home/anmari/gc_ttt/venv/bin/python"
   ]
  }
 ],
 "metadata": {
  "kernelspec": {
   "display_name": "venv",
   "language": "python",
   "name": "python3"
  },
  "language_info": {
   "codemirror_mode": {
    "name": "ipython",
    "version": 3
   },
   "file_extension": ".py",
   "mimetype": "text/x-python",
   "name": "python",
   "nbconvert_exporter": "python",
   "pygments_lexer": "ipython3",
   "version": "3.11.6"
  }
 },
 "nbformat": 4,
 "nbformat_minor": 5
}
